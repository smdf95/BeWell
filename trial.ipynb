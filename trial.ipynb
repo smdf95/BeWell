{
 "cells": [
  {
   "cell_type": "code",
   "execution_count": 1,
   "metadata": {},
   "outputs": [
    {
     "name": "stdout",
     "output_type": "stream",
     "text": [
      "I'm sorry to hear that. I hope you feel better soon.\n"
     ]
    }
   ],
   "source": [
    "mood = input(\"How are you feeling?\\n (Awful) (Not Good) (Okay) (Good) (Amazing)\")\n",
    "\n",
    "if mood.lower() == \"awful\":\n",
    "    emotion = input(\"Sorry to hear that. What exactly are you feeling?\\n (Anxiety) (Stress) (Worry) (Sadness) (Anger)\")\n",
    "    if emotion.lower() == \"anxiety\":\n",
    "        symptoms = input(\"How is this anxiety manifesting?\\n (Rumination) (Restlessness) (Tension) (Panic)\")\n",
    "        if symptoms.lower() == \"rumination\":\n",
    "            solutions = input(\"Rumination can make everything feel more overwhelming! Would you like to try any of the following activities to relieve the rumination?\\n (Leaves on a Stream) (Mindfulness Body Scan) (Walk) (Yoga)\")"
   ]
  },
  {
   "cell_type": "code",
   "execution_count": null,
   "metadata": {},
   "outputs": [],
   "source": []
  }
 ],
 "metadata": {
  "kernelspec": {
   "display_name": "Python 3",
   "language": "python",
   "name": "python3"
  },
  "language_info": {
   "codemirror_mode": {
    "name": "ipython",
    "version": 3
   },
   "file_extension": ".py",
   "mimetype": "text/x-python",
   "name": "python",
   "nbconvert_exporter": "python",
   "pygments_lexer": "ipython3",
   "version": "3.11.5"
  },
  "orig_nbformat": 4
 },
 "nbformat": 4,
 "nbformat_minor": 2
}
